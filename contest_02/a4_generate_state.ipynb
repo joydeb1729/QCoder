{
 "cells": [
  {
   "cell_type": "markdown",
   "metadata": {},
   "source": [
    "## Problem Statement  \n",
    "\n",
    "You are given an integer $n$. Implement the operation of preparing the state $|\\psi\\rangle$ from the zero state on a quantum circuit $qc$ with $n$ qubits.  \n",
    "\n",
    "The quantum state $|\\psi\\rangle$ is defined as:  \n",
    "\n",
    "$$|\\psi\\rangle = \\frac{1}{\\sqrt{2}} (|0...0\\rangle_n - |1...1\\rangle_n).$$  \n",
    "\n",
    "## Constraints  \n",
    "\n",
    "- $2 \\leq n \\leq 15$  \n",
    "- The circuit depth must not exceed $10$.  \n",
    "- Global phase is ignored in judging.  \n",
    "- The submitted code must follow the specified format.  \n",
    "\n",
    "## Sample Input  \n",
    "\n",
    "For $n = 4$, the implemented circuit $qc$ should perform the following transformation:  \n",
    "\n",
    "$$|0000\\rangle \\rightarrow \\frac{1}{\\sqrt{2}} (|0000\\rangle - |1111\\rangle).$$  \n"
   ]
  },
  {
   "cell_type": "code",
   "execution_count": 55,
   "metadata": {},
   "outputs": [],
   "source": [
    "from qiskit import QuantumCircuit\n",
    "\n",
    "\n",
    "def solve(n: int) -> QuantumCircuit:\n",
    "    qc = QuantumCircuit(n)\n",
    "    \n",
    "    qc.h(0)\n",
    "    qc.cx(control_qubit=0, target_qubit=1)\n",
    "    \n",
    "    for i in range(2,n-1,2):\n",
    "        qc.cx(control_qubit=0, target_qubit=i)\n",
    "        qc.cx(control_qubit=1, target_qubit=i+1)\n",
    "        \n",
    "    \n",
    "    if(n%2!=0):\n",
    "       qc.cx(control_qubit=0, target_qubit=n-1) \n",
    "    \n",
    "        \n",
    "    qc.z(0)\n",
    "\n",
    "    return qc"
   ]
  },
  {
   "cell_type": "code",
   "execution_count": 56,
   "metadata": {},
   "outputs": [
    {
     "data": {
      "image/png": "[encoded data removed]",
      "text/plain": [
       "<Figure size 789.163x618.722 with 1 Axes>"
      ]
     },
     "execution_count": 56,
     "metadata": {},
     "output_type": "execute_result"
    }
   ],
   "source": [
    "qc = solve(7)\n",
    "\n",
    "qc.draw('mpl')"
   ]
  },
  {
   "cell_type": "code",
   "execution_count": 57,
   "metadata": {},
   "outputs": [
    {
     "data": {
      "text/latex": [
       "$$\\frac{\\sqrt{2}}{2} |0000000\\rangle- \\frac{\\sqrt{2}}{2} |1111111\\rangle$$"
      ],
      "text/plain": [
       "<IPython.core.display.Latex object>"
      ]
     },
     "execution_count": 57,
     "metadata": {},
     "output_type": "execute_result"
    }
   ],
   "source": [
    "from qiskit.quantum_info import Statevector\n",
    "\n",
    "statevector = Statevector(qc)\n",
    "\n",
    "statevector.draw('latex')"
   ]
  },
  {
   "cell_type": "markdown",
   "metadata": {},
   "source": [
    "## Solution Approach  \n",
    "\n",
    "To prepare the quantum state  \n",
    "\n",
    "$$|\\psi\\rangle = \\frac{1}{\\sqrt{2}} (|0...0\\rangle_n - |1...1\\rangle_n),$$  \n",
    "\n",
    "we follow these steps:  \n",
    "\n",
    "1. **Initialize the qubits**: All qubits start in the $|0\\rangle$ state.  \n",
    "2. **Apply a Hadamard ($H$) gate on qubit 0**: This creates a superposition state:  \n",
    "\n",
    "   $$\\frac{1}{\\sqrt{2}} (|0\\rangle + |1\\rangle) \\otimes |0\\rangle^{\\otimes (n-1)}.$$  \n",
    "\n",
    "3. **Entangle qubits using CNOT ($CX$) gates**:  \n",
    "   - Apply a $CX$ gate from qubit 0 to qubit 1.  \n",
    "   - For every even index $i$ (starting from 2), apply:  \n",
    "     - $CX$ from qubit 0 to qubit $i$.  \n",
    "     - $CX$ from qubit 1 to qubit $i+1$.  \n",
    "   - If $n$ is odd, an additional $CX$ is applied from qubit 0 to qubit $(n-1)$.  \n",
    "\n",
    "   This ensures that all qubits are entangled, forming the state:  \n",
    "\n",
    "   $$\\frac{1}{\\sqrt{2}} (|00...0\\rangle + |11...1\\rangle).$$  \n",
    "\n",
    "4. **Apply a $Z$ gate on qubit 0**: This introduces a phase flip on the $|11...1\\rangle$ state, yielding the final desired state:  \n",
    "\n",
    "   $$\\frac{1}{\\sqrt{2}} (|0...0\\rangle - |1...1\\rangle).$$  \n",
    "\n",
    "## Circuit Depth Analysis  \n",
    "\n",
    "The circuit depth is determined by the sequence of operations:\n",
    "\n",
    "1. Hadamard gate ($H$) → Depth 1  \n",
    "2. First $CX$ gate → Depth 2  \n",
    "3. Loop for entanglement using $CX$ gates:\n",
    "   - There are at most $\\frac{n}{2} - 1$ layers due to parallel $CX$ operations.\n",
    "4. Additional $CX$ for odd $n$ (if needed) → At most 1 extra depth.  \n",
    "5. $Z$ gate → Depth 1  \n",
    "\n",
    "Thus, the total depth is:  \n",
    "\n",
    "$$\\frac{n}{2} + 3.$$  \n",
    "\n",
    "Since $n \\leq 15$, the maximum depth is:  \n",
    "\n",
    "$$\\frac{15}{2} + 3 = 7.5 \\approx 8 < 10.$$  \n",
    "\n",
    "This ensures the depth constraint is always satisfied.  \n"
   ]
  }
 ],
 "metadata": {
  "kernelspec": {
   "display_name": "base",
   "language": "python",
   "name": "python3"
  },
  "language_info": {
   "codemirror_mode": {
    "name": "ipython",
    "version": 3
   },
   "file_extension": ".py",
   "mimetype": "text/x-python",
   "name": "python",
   "nbconvert_exporter": "python",
   "pygments_lexer": "ipython3",
   "version": "3.12.3"
  }
 },
 "nbformat": 4,
 "nbformat_minor": 2
}
