{
 "cells": [
  {
   "cell_type": "markdown",
   "metadata": {},
   "source": [
    "## Problem Statement  \n",
    "\n",
    "Implement the operation of preparing the state $|\\psi\\rangle$ from the zero state on a quantum circuit $qc$ with $2$ qubits.  \n",
    "\n",
    "The quantum state $|\\psi\\rangle$ is defined as:  \n",
    "\n",
    "$$|\\psi\\rangle = \\frac{1}{\\sqrt{2}} (|00\\rangle - |11\\rangle).$$  \n",
    "\n",
    "## Constraints  \n",
    "\n",
    "- Global phase is ignored in judging.  \n",
    "- The submitted code must follow the specified format.  \n"
   ]
  },
  {
   "cell_type": "code",
   "execution_count": null,
   "metadata": {},
   "outputs": [],
   "source": [
    "from qiskit import QuantumCircuit\n",
    "\n",
    "\n",
    "def solve() -> QuantumCircuit:\n",
    "    qc = QuantumCircuit(2)\n",
    "    qc.h(0)\n",
    "    \n",
    "    qc.cx(control_qubit=0, target_qubit=1)\n",
    "    qc.cz(control_qubit=0, target_qubit=1)\n",
    "    \n",
    "    return qc"
   ]
  },
  {
   "cell_type": "code",
   "execution_count": 35,
   "metadata": {},
   "outputs": [],
   "source": [
    "qc = solve()"
   ]
  },
  {
   "cell_type": "code",
   "execution_count": 36,
   "metadata": {},
   "outputs": [
    {
     "data": {
      "text/latex": [
       "$$\\frac{\\sqrt{2}}{2} |00\\rangle- \\frac{\\sqrt{2}}{2} |11\\rangle$$"
      ],
      "text/plain": [
       "<IPython.core.display.Latex object>"
      ]
     },
     "execution_count": 36,
     "metadata": {},
     "output_type": "execute_result"
    }
   ],
   "source": [
    "from qiskit.quantum_info import Statevector\n",
    "\n",
    "statevector = Statevector(qc)\n",
    "\n",
    "statevector.draw('latex')"
   ]
  },
  {
   "cell_type": "markdown",
   "metadata": {},
   "source": [
    "## Solution Approach  \n",
    "\n",
    "To prepare the quantum state  \n",
    "\n",
    "$$|\\psi\\rangle = \\frac{1}{\\sqrt{2}} (|00\\rangle - |11\\rangle),$$  \n",
    "\n",
    "we follow these steps:  \n",
    "\n",
    "1. **Initialize the qubits**: In Qiskit, qubits are initialized in the $|00\\rangle$ state.  \n",
    "2. **Apply a Hadamard ($H$) gate on qubit 0**: This creates an equal superposition state:  \n",
    "\n",
    "   $$\\frac{1}{\\sqrt{2}} (|0\\rangle + |1\\rangle) \\otimes |0\\rangle = \\frac{1}{\\sqrt{2}} (|00\\rangle + |10\\rangle).$$  \n",
    "\n",
    "3. **Apply a CNOT ($CX$) gate with qubit 0 as control and qubit 1 as target**: This entangles the qubits, resulting in:  \n",
    "\n",
    "   $$\\frac{1}{\\sqrt{2}} (|00\\rangle + |11\\rangle).$$  \n",
    "\n",
    "4. **Apply a controlled-Z ($CZ$) gate with qubit 0 as control and qubit 1 as target**: This introduces a phase flip on the $|11\\rangle$ state, giving the final desired state:  \n",
    "\n",
    "   $$\\frac{1}{\\sqrt{2}} (|00\\rangle - |11\\rangle).$$  \n"
   ]
  }
 ],
 "metadata": {
  "kernelspec": {
   "display_name": "base",
   "language": "python",
   "name": "python3"
  },
  "language_info": {
   "codemirror_mode": {
    "name": "ipython",
    "version": 3
   },
   "file_extension": ".py",
   "mimetype": "text/x-python",
   "name": "python",
   "nbconvert_exporter": "python",
   "pygments_lexer": "ipython3",
   "version": "3.12.3"
  }
 },
 "nbformat": 4,
 "nbformat_minor": 2
}
