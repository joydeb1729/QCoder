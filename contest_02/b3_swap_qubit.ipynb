{
 "cells": [
  {
   "cell_type": "markdown",
   "metadata": {},
   "source": [
    "# B3: SWAP Qubits  \n",
    "\n",
    "## Problem Statement  \n",
    "\n",
    "Implement the operation of swapping two qubit states on a quantum circuit $ qc $ with **2 qubits**.  \n",
    "\n",
    "More precisely, implement the transformation:  \n",
    "\n",
    "$$  \n",
    "a_0 |00\\rangle + a_1 |10\\rangle + a_2 |01\\rangle + a_3 |11\\rangle  \n",
    "\\quad \\xrightarrow{qc} \\quad  \n",
    "a_0 |00\\rangle + a_2 |10\\rangle + a_1 |01\\rangle + a_3 |11\\rangle,  \n",
    "$$  \n",
    "\n",
    "where $ a_i $ represents arbitrary probability amplitudes.  \n",
    "\n",
    "## Constraints  \n",
    "\n",
    "- You **cannot** use Qiskit's `SwapGate`.  \n",
    "- Global phase is ignored in the judge.  \n"
   ]
  },
  {
   "cell_type": "code",
   "execution_count": null,
   "metadata": {},
   "outputs": [],
   "source": [
    "from qiskit import QuantumCircuit\n",
    "\n",
    "def solve() -> QuantumCircuit:\n",
    "    qc = QuantumCircuit(2)\n",
    "    \n",
    "    qc.swap(qubit1=0, qubit2=1)\n",
    "\n",
    "    return qc"
   ]
  },
  {
   "cell_type": "code",
   "execution_count": 3,
   "metadata": {},
   "outputs": [
    {
     "data": {
      "image/png": "[encoded data removed]",
      "text/plain": [
       "<Figure size 203.683x200.667 with 1 Axes>"
      ]
     },
     "execution_count": 3,
     "metadata": {},
     "output_type": "execute_result"
    }
   ],
   "source": [
    "qc = solve()\n",
    "\n",
    "qc.draw('mpl')"
   ]
  },
  {
   "cell_type": "markdown",
   "metadata": {},
   "source": [
    "- In this way we can implement swap gate. But there is a constraint that we cannot use the swap gate directly. Lets try another way."
   ]
  },
  {
   "cell_type": "code",
   "execution_count": 5,
   "metadata": {},
   "outputs": [],
   "source": [
    "from qiskit import QuantumCircuit\n",
    "\n",
    "def solve() -> QuantumCircuit:\n",
    "    qc = QuantumCircuit(2)\n",
    "    \n",
    "    qc.cx(control_qubit=0, target_qubit=1)\n",
    "    qc.cx(control_qubit=1, target_qubit=0)\n",
    "    qc.cx(control_qubit=0, target_qubit=1)\n",
    "\n",
    "    return qc"
   ]
  },
  {
   "cell_type": "code",
   "execution_count": 6,
   "metadata": {},
   "outputs": [
    {
     "data": {
      "image/png": "[encoded data removed]",
      "text/plain": [
       "<Figure size 370.906x200.667 with 1 Axes>"
      ]
     },
     "execution_count": 6,
     "metadata": {},
     "output_type": "execute_result"
    }
   ],
   "source": [
    "qc = solve()\n",
    "\n",
    "qc.draw('mpl')"
   ]
  },
  {
   "cell_type": "markdown",
   "metadata": {},
   "source": [
    "## Solution Approach  \n",
    "\n",
    "To swap the states of two qubits without using Qiskit's `SwapGate`, we use a sequence of **CNOT (CX) gates**. The standard decomposition of a **SWAP gate** using CNOT gates is as follows:  \n",
    "\n",
    "### Step 1: **Apply the First CNOT ($ CX(0,1) $)**  \n",
    "- This **copies** the state of qubit $ q_0 $ onto $ q_1 $, but does not erase $ q_0 $.  \n",
    "- Effectively, the target qubit ($ q_1 $) becomes an **XOR** of both qubits.  \n",
    "\n",
    "### Step 2: **Apply the Second CNOT ($ CX(1,0) $)**  \n",
    "- This updates the control qubit ($ q_0 $) based on the modified $ q_1 $.  \n",
    "- Now, $ q_0 $ has the original value of $ q_1 $, completing half of the swap.  \n",
    "\n",
    "### Step 3: **Apply the Third CNOT ($ CX(0,1) $)**  \n",
    "- Finally, applying $ CX(0,1) $ again restores the state of $ q_1 $ to its original value, completing the swap operation.  \n",
    "\n",
    "## Justification  \n",
    "\n",
    "The sequence of operations ensures that the computational basis states are transformed correctly:  \n",
    "\n",
    "1. **Initial State**  \n",
    "   $$ |q_0 q_1\\rangle = |x y\\rangle $$  \n",
    "\n",
    "2. **After First CNOT ($ CX(0,1) $)**  \n",
    "   $$ |x, x \\oplus y\\rangle $$  \n",
    "\n",
    "3. **After Second CNOT ($ CX(1,0) $)**  \n",
    "   $$ |y, x \\oplus y\\rangle $$  \n",
    "\n",
    "4. **After Third CNOT ($ CX(0,1) $)**  \n",
    "   $$ |y, x\\rangle $$  \n",
    "\n",
    "Thus, the states of the two qubits have been swapped correctly. This method is widely used in quantum computing as an efficient decomposition of the **SWAP gate**.\n"
   ]
  }
 ],
 "metadata": {
  "kernelspec": {
   "display_name": "base",
   "language": "python",
   "name": "python3"
  },
  "language_info": {
   "codemirror_mode": {
    "name": "ipython",
    "version": 3
   },
   "file_extension": ".py",
   "mimetype": "text/x-python",
   "name": "python",
   "nbconvert_exporter": "python",
   "pygments_lexer": "ipython3",
   "version": "3.12.3"
  }
 },
 "nbformat": 4,
 "nbformat_minor": 2
}
