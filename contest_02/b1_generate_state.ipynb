{
 "cells": [
  {
   "cell_type": "markdown",
   "metadata": {},
   "source": [
    "# $B1$: Generate State $e^{i\\theta} |0\\rangle$\n",
    "\n",
    "## Problem Statement  \n",
    "\n",
    "You are given a real number $ \\theta $. Implement the operation of preparing the quantum state $ |\\psi\\rangle $ from the zero state on a quantum circuit $ qc $ with **one qubit**.  \n",
    "\n",
    "The quantum state $ |\\psi\\rangle $ is defined as:  \n",
    "\n",
    "$$\n",
    "|\\psi\\rangle = e^{i\\theta} |0\\rangle.\n",
    "$$\n",
    "\n",
    "## Constraints  \n",
    "\n",
    "- $0 \\leq \\theta < 2\\pi$  \n",
    "- In this problem, a state with a different global phase will **not** be considered correct.  "
   ]
  },
  {
   "cell_type": "code",
   "execution_count": 9,
   "metadata": {},
   "outputs": [],
   "source": [
    "from qiskit import QuantumCircuit\n",
    "\n",
    "\n",
    "def solve(theta: float) -> QuantumCircuit:\n",
    "    qc = QuantumCircuit(1)\n",
    "    \n",
    "    qc.x(0)\n",
    "    qc.p(qubit=0, theta=theta)\n",
    "    qc.x(0)\n",
    "\n",
    "    return qc"
   ]
  },
  {
   "cell_type": "code",
   "execution_count": 10,
   "metadata": {},
   "outputs": [
    {
     "data": {
      "image/png": "[encoded data removed]",
      "text/plain": [
       "<Figure size 352.675x117.056 with 1 Axes>"
      ]
     },
     "execution_count": 10,
     "metadata": {},
     "output_type": "execute_result"
    }
   ],
   "source": [
    "import numpy as np\n",
    "qc = solve(np.pi)\n",
    "\n",
    "qc.draw('mpl')"
   ]
  },
  {
   "cell_type": "code",
   "execution_count": 11,
   "metadata": {},
   "outputs": [
    {
     "data": {
      "text/latex": [
       "$$- |0\\rangle$$"
      ],
      "text/plain": [
       "<IPython.core.display.Latex object>"
      ]
     },
     "execution_count": 11,
     "metadata": {},
     "output_type": "execute_result"
    }
   ],
   "source": [
    "from qiskit.quantum_info import Statevector\n",
    "\n",
    "statevector = Statevector(qc)\n",
    "\n",
    "statevector.draw('latex')"
   ]
  },
  {
   "cell_type": "markdown",
   "metadata": {},
   "source": [
    "## Solution Approach  \n",
    "\n",
    "To generate the quantum state  \n",
    "\n",
    "$$\n",
    "|\\psi\\rangle = e^{i\\theta} |0\\rangle,\n",
    "$$  \n",
    "\n",
    "we need to apply a phase factor of $ e^{i\\theta} $ to the $ |0\\rangle $ state. In Qiskit, this can be achieved using the phase gate $ P(\\theta) $. However, directly applying $ P(\\theta) $ on $ |0\\rangle $ has no effect because phase gates only modify the $ |1\\rangle $ component of a superposition.  \n",
    "\n",
    "### Steps to Implement  \n",
    "\n",
    "1. **Initialize the Circuit:**  \n",
    "   - Create a quantum circuit with **one qubit**.  \n",
    "\n",
    "2. **Apply an X Gate:**  \n",
    "   - The X gate flips the qubit from $ |0\\rangle $ to $ |1\\rangle $.  \n",
    "   - This allows us to apply the phase gate effectively.  \n",
    "\n",
    "3. **Apply the Phase Gate $ P(\\theta) $:**  \n",
    "   - The phase gate $ P(\\theta) $ applies a phase factor $ e^{i\\theta} $ to the $ |1\\rangle $ state.  \n",
    "   - Since the qubit is currently in $ |1\\rangle $, this effectively adds the phase.  \n",
    "\n",
    "4. **Apply Another X Gate:**  \n",
    "   - The second X gate flips the qubit back to $ |0\\rangle $.  \n",
    "   - This transfers the acquired phase to the $ |0\\rangle $ state, resulting in the desired state $ e^{i\\theta} |0\\rangle $.  \n",
    "\n",
    "### Correctness  \n",
    "\n",
    "- The approach ensures that the **global phase is correctly applied**, which is crucial since states with different global phases are considered incorrect in this problem.  \n",
    "- The use of X gates allows us to manipulate the phase of the $ |0\\rangle $ state indirectly.  \n",
    "\n",
    "Thus, this implementation correctly prepares the required quantum state.\n"
   ]
  }
 ],
 "metadata": {
  "kernelspec": {
   "display_name": "base",
   "language": "python",
   "name": "python3"
  },
  "language_info": {
   "codemirror_mode": {
    "name": "ipython",
    "version": 3
   },
   "file_extension": ".py",
   "mimetype": "text/x-python",
   "name": "python",
   "nbconvert_exporter": "python",
   "pygments_lexer": "ipython3",
   "version": "3.12.3"
  }
 },
 "nbformat": 4,
 "nbformat_minor": 2
}
