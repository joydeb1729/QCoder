{
 "cells": [
  {
   "cell_type": "markdown",
   "metadata": {},
   "source": [
    "# $B2$: Phase Shift Oracle  \n",
    "\n",
    "## Problem Statement  \n",
    "\n",
    "You are given integers $ n $, $ L $, and a real number $ \\theta $. Implement the oracle $ O $ on a quantum circuit $ qc $ with $ n $ qubits, which acts on computational basis states as follows:  \n",
    "\n",
    "$$  \n",
    "|y\\rangle_n \\xrightarrow{O}  \n",
    "\\begin{cases}  \n",
    "e^{i\\theta} |y\\rangle_n & \\text{if } y = L, \\\\  \n",
    "|y\\rangle_n & \\text{if } y \\neq L.  \n",
    "\\end{cases}  \n",
    "$$  \n",
    "\n",
    "for any integer $ y $ such that $ 0 \\leq y < 2^n $.  \n",
    "\n",
    "## Constraints  \n",
    "\n",
    "$$  \n",
    "1 \\leq n \\leq 10  \n",
    "$$  \n",
    "\n",
    "$$  \n",
    "0 \\leq L < 2^n  \n",
    "$$  \n",
    "\n",
    "$$  \n",
    "0 \\leq \\theta < 2\\pi  \n",
    "$$  \n",
    "\n",
    "- Integers must be encoded in **little-endian** format.  \n",
    "- **Global phase is ignored** in the evaluation.  \n",
    "\n",
    "## Sample Input  \n",
    "\n",
    "$$  \n",
    "n = 2, \\quad L = 1, \\quad \\theta = \\frac{\\pi}{2}  \n",
    "$$  \n",
    "\n",
    "The implemented circuit $ qc $ should perform the following transformation:  \n",
    "\n",
    "$$  \n",
    "\\frac{1}{2} \\left( |00\\rangle + |10\\rangle + |01\\rangle + |11\\rangle \\right)  \n",
    "\\quad \\xrightarrow{qc} \\quad  \n",
    "\\frac{1}{2} \\left( |00\\rangle + i |10\\rangle + |01\\rangle + |11\\rangle \\right).  \n",
    "$$  "
   ]
  },
  {
   "cell_type": "code",
   "execution_count": null,
   "metadata": {},
   "outputs": [],
   "source": [
    "from qiskit import QuantumCircuit\n",
    "from qiskit.circuit.library import PhaseGate\n",
    "\n",
    "def solve(n: int, L: int, theta: float) -> QuantumCircuit:\n",
    "    qc = QuantumCircuit(n)\n",
    "    \n",
    "    #---------------------------\n",
    "    for k in range(n):      # This part is for state visualization.\n",
    "        qc.h(k)             # Remove this part while submitting    \n",
    "    #---------------------------\n",
    "    \n",
    "    # Convert L to an n-bit little-endian binary string\n",
    "    binary_repr = format(L, f'0{n}b')\n",
    "    little_endian_bin_repr = binary_repr[::-1]  \n",
    "    \n",
    "    # Apply X-gates where the corresponding bit in L is 0\n",
    "    for j in range(n):\n",
    "        if little_endian_bin_repr[j] == '0':\n",
    "            qc.x(j)\n",
    "    \n",
    "    # Apply the multi-controlled phase shift\n",
    "    if n==1:\n",
    "        qc.p(theta= theta)  # If single qubit, apply phase gate directly (corner case)\n",
    "    else:\n",
    "        qc.append(PhaseGate(theta=theta).control(n-1), range(n))\n",
    "    \n",
    "    # Revert X-gates\n",
    "    for j in range(n):\n",
    "        if little_endian_bin_repr[j] == '0':\n",
    "            qc.x(j)\n",
    "\n",
    "    return qc\n"
   ]
  },
  {
   "cell_type": "code",
   "execution_count": 28,
   "metadata": {},
   "outputs": [
    {
     "data": {
      "image/png": "[encoded data removed]",
      "text/plain": [
       "<Figure size 538.128x200.667 with 1 Axes>"
      ]
     },
     "execution_count": 28,
     "metadata": {},
     "output_type": "execute_result"
    }
   ],
   "source": [
    "import numpy as np\n",
    "\n",
    "qc = solve(2, 1, np.pi/2)\n",
    "\n",
    "qc.draw('mpl')"
   ]
  },
  {
   "cell_type": "code",
   "execution_count": 29,
   "metadata": {},
   "outputs": [
    {
     "data": {
      "text/latex": [
       "$$\\frac{1}{2} |00\\rangle+\\frac{i}{2} |01\\rangle+\\frac{1}{2} |10\\rangle+\\frac{1}{2} |11\\rangle$$"
      ],
      "text/plain": [
       "<IPython.core.display.Latex object>"
      ]
     },
     "execution_count": 29,
     "metadata": {},
     "output_type": "execute_result"
    }
   ],
   "source": [
    "from qiskit.quantum_info import Statevector\n",
    "\n",
    "statevector = Statevector(qc)\n",
    "\n",
    "statevector.draw('latex')"
   ]
  },
  {
   "cell_type": "markdown",
   "metadata": {},
   "source": [
    "## Solution Approach  \n",
    "\n",
    "To implement the oracle $ O $, which applies a phase shift $ e^{i\\theta} $ only to the computational basis state $ |L\\rangle_n $, we follow these steps:  \n",
    "\n",
    "### Step 1: **Initialize the Quantum Circuit**  \n",
    "- Create a quantum circuit with $ n $ qubits.  \n",
    "\n",
    "### Step 2: **State Visualization (For Debugging)**  \n",
    "- Apply Hadamard ($ H $) gates to all qubits for state visualization.  \n",
    "- This step should be removed in the final submission.  \n",
    "\n",
    "### Step 3: **Convert $ L $ to Little-Endian Binary Representation**  \n",
    "- Convert the integer $ L $ to an $ n $-bit binary string.  \n",
    "- Reverse the string to match **little-endian** encoding.  \n",
    "\n",
    "### Step 4: **Mark the Target State Using X-Gates**  \n",
    "- Iterate over each bit of the little-endian representation of $ L $.  \n",
    "- Apply an $ X $-gate to qubits where the corresponding bit in $ L $ is $ 0 $.  \n",
    "- This step prepares the register so that the state $ |L\\rangle_n $ corresponds to $ |11\\cdots1\\rangle $ in the transformed basis.  \n",
    "\n",
    "### Step 5: **Apply the Multi-Controlled Phase Shift**  \n",
    "- If $ n = 1 $, apply a single-qubit phase gate $ P(\\theta) $.  \n",
    "- Otherwise, apply an $ (n-1) $-controlled **Phase Gate** $ P(\\theta) $, controlled by all $ n-1 $ qubits.  \n",
    "\n",
    "### Step 6: **Revert the Marking with X-Gates**  \n",
    "- Undo the effect of Step 4 by reapplying the $ X $-gates to restore the original computational basis states.  \n",
    "\n",
    "This implementation ensures that only the state $ |L\\rangle_n $ accumulates the phase $ e^{i\\theta} $, while all other basis states remain unchanged.\n"
   ]
  }
 ],
 "metadata": {
  "kernelspec": {
   "display_name": "base",
   "language": "python",
   "name": "python3"
  },
  "language_info": {
   "codemirror_mode": {
    "name": "ipython",
    "version": 3
   },
   "file_extension": ".py",
   "mimetype": "text/x-python",
   "name": "python",
   "nbconvert_exporter": "python",
   "pygments_lexer": "ipython3",
   "version": "3.12.3"
  }
 },
 "nbformat": 4,
 "nbformat_minor": 2
}
