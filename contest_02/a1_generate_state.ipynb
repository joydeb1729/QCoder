{
 "cells": [
  {
   "cell_type": "markdown",
   "metadata": {},
   "source": [
    "## Problem Statement  \n",
    "\n",
    "Implement the operation of preparing the state $|\\psi\\rangle$ from the zero state on a quantum circuit $qc$ with $1$ qubit.  \n",
    "\n",
    "The quantum state $|\\psi\\rangle$ is defined as:  \n",
    "\n",
    "$$|\\psi\\rangle = -|0\\rangle.$$\n",
    "\n",
    "## Constraints  \n",
    "\n",
    "- In this problem, the state with a different global phase will not be considered correct.  \n",
    "- The submitted code must follow the specified format.\n"
   ]
  },
  {
   "cell_type": "code",
   "execution_count": 1,
   "metadata": {},
   "outputs": [],
   "source": [
    "from qiskit import QuantumCircuit\n",
    "\n",
    "\n",
    "def solve() -> QuantumCircuit:\n",
    "    qc = QuantumCircuit(1)\n",
    "    qc.x(0)\n",
    "    qc.z(0)\n",
    "    qc.x(0)\n",
    "    \n",
    "    return qc"
   ]
  },
  {
   "cell_type": "code",
   "execution_count": 2,
   "metadata": {},
   "outputs": [],
   "source": [
    "qc = solve()"
   ]
  },
  {
   "cell_type": "code",
   "execution_count": 3,
   "metadata": {},
   "outputs": [
    {
     "data": {
      "text/latex": [
       "$$- |0\\rangle$$"
      ],
      "text/plain": [
       "<IPython.core.display.Latex object>"
      ]
     },
     "execution_count": 3,
     "metadata": {},
     "output_type": "execute_result"
    }
   ],
   "source": [
    "from qiskit.quantum_info import Statevector\n",
    "\n",
    "statevector = Statevector(qc)\n",
    "\n",
    "statevector.draw('latex')"
   ]
  },
  {
   "cell_type": "markdown",
   "metadata": {},
   "source": [
    "## Solution Approach  \n",
    "\n",
    "To prepare the quantum state $|\\psi\\rangle = -|0\\rangle$, we need to apply quantum gates that introduce the required global phase.  \n",
    "\n",
    "### Steps:  \n",
    "\n",
    "1. **Start with the zero state**: A single qubit in Qiskit is initialized to $|0\\rangle$.  \n",
    "2. **Apply an $X$ gate**: The $X$ (Pauli-X) gate flips the state, but in this case, we use it to help in phase transformation.  \n",
    "3. **Apply a $Z$ gate**: The $Z$ (Pauli-Z) gate applies a phase of $-1$ to the $|1\\rangle$ component, effectively changing the global phase of the state.  \n",
    "4. **Apply another $X$ gate**: This brings the qubit back to the $|0\\rangle$ state, but now with the required phase transformation.  \n",
    "\n",
    "Thus, the final state of the qubit is $- |0\\rangle$, achieving the desired state.\n"
   ]
  }
 ],
 "metadata": {
  "kernelspec": {
   "display_name": "base",
   "language": "python",
   "name": "python3"
  },
  "language_info": {
   "codemirror_mode": {
    "name": "ipython",
    "version": 3
   },
   "file_extension": ".py",
   "mimetype": "text/x-python",
   "name": "python",
   "nbconvert_exporter": "python",
   "pygments_lexer": "ipython3",
   "version": "3.12.3"
  }
 },
 "nbformat": 4,
 "nbformat_minor": 2
}
