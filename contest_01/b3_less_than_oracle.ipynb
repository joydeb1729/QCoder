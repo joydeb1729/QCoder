{
 "cells": [
  {
   "cell_type": "markdown",
   "metadata": {},
   "source": [
    "# $B3$: Less Than Oracle I\n",
    "\n",
    "## Problem Statement\n",
    "You are given integers $n$ and $L$. Implement the oracle $O$ on a quantum circuit $qc$ with $n$ qubits, which multiplies all the probability amplitudes $a_i$ of \n",
    "$\\lvert 0 \\rangle, \\lvert 1 \\rangle, \\dots, \\lvert L-1 \\rangle$  by $-1$.\n",
    "\n",
    "### Constraints\n",
    "- $1 \\leq n \\leq 5$\n",
    "- $1 \\leq L \\leq 2^n$\n",
    "- Global phase is ignored in judgment.\n",
    "- Integers must be encoded in little-endian format.\n",
    "\n",
    "## Sample Input\n",
    "For $n = 2$, $L = 3$, the initial state is:\n",
    "\n",
    "$$\n",
    "\\frac{1}{\\sqrt{4}} ( \\lvert 00 \\rangle + \\lvert 10 \\rangle + \\lvert 01 \\rangle + \\lvert 11 \\rangle ).\n",
    "$$\n",
    "\n",
    "The implemented oracle $O$ should apply the transformation:\n",
    "\n",
    "$$\n",
    "\\frac{1}{\\sqrt{4}} ( \\lvert 00 \\rangle + \\lvert 10 \\rangle + \\lvert 01 \\rangle + \\lvert 11 \\rangle ) \\xrightarrow{O} \\frac{1}{\\sqrt{4}} ( -\\lvert 00 \\rangle - \\lvert 10 \\rangle - \\lvert 01 \\rangle + \\lvert 11 \\rangle ).\n",
    "$$\n"
   ]
  },
  {
   "cell_type": "code",
   "execution_count": 166,
   "metadata": {},
   "outputs": [],
   "source": [
    "from qiskit import QuantumCircuit\n",
    "from qiskit.circuit.library import ZGate\n",
    "\n",
    "def solve(n: int, L: int) -> QuantumCircuit:\n",
    "    qc = QuantumCircuit(n)\n",
    "    \n",
    "    #----------------------------------\n",
    "    for k in range(n):   #remove this part while submitting\n",
    "        qc.h(k)\n",
    "    #----------------------------------- \n",
    "    \n",
    "    for i in range(L):\n",
    "        # Convert index to n-bit binary (big-endian)\n",
    "        binary_repr = format(i, f'0{n}b')  \n",
    "        little_endian_binary_repr = binary_repr[::-1]  # Convert to little-endian\n",
    "\n",
    "        # Apply X gates when state = 0\n",
    "        for j in range(n):\n",
    "            if little_endian_binary_repr[j] == '0':\n",
    "                qc.x(j)\n",
    "\n",
    "        # Apply multi-controlled Z gate\n",
    "        if n == 1:\n",
    "            qc.z(0)  # Directly apply Z if there's only one qubit\n",
    "        else:\n",
    "            qc.append(ZGate().control(n - 1), range(n))\n",
    "\n",
    "        # Reset X gates for the next iteration\n",
    "        for j in range(n):\n",
    "            if little_endian_binary_repr[j] == '0':\n",
    "                qc.x(j)\n",
    "    \n",
    "    return qc"
   ]
  },
  {
   "cell_type": "code",
   "execution_count": 167,
   "metadata": {},
   "outputs": [
    {
     "data": {
      "image/png": "[encoded data removed]",
      "text/plain": [
       "<Figure size 1374.44x284.278 with 1 Axes>"
      ]
     },
     "execution_count": 167,
     "metadata": {},
     "output_type": "execute_result"
    }
   ],
   "source": [
    "qc = solve(3,5)\n",
    "\n",
    "qc.draw('mpl')"
   ]
  },
  {
   "cell_type": "code",
   "execution_count": 168,
   "metadata": {},
   "outputs": [
    {
     "data": {
      "text/latex": [
       "$$- \\frac{\\sqrt{2}}{4} |000\\rangle- \\frac{\\sqrt{2}}{4} |001\\rangle- \\frac{\\sqrt{2}}{4} |010\\rangle- \\frac{\\sqrt{2}}{4} |011\\rangle- \\frac{\\sqrt{2}}{4} |100\\rangle+\\frac{\\sqrt{2}}{4} |101\\rangle+\\frac{\\sqrt{2}}{4} |110\\rangle+\\frac{\\sqrt{2}}{4} |111\\rangle$$"
      ],
      "text/plain": [
       "<IPython.core.display.Latex object>"
      ]
     },
     "execution_count": 168,
     "metadata": {},
     "output_type": "execute_result"
    }
   ],
   "source": [
    "from qiskit.quantum_info import Statevector\n",
    "\n",
    "statevector = Statevector(qc)\n",
    "\n",
    "statevector.draw('latex')"
   ]
  },
  {
   "cell_type": "markdown",
   "metadata": {},
   "source": [
    "## Solution Approach\n",
    "\n",
    "The goal of this oracle $O$ is to multiply the probability amplitudes of computational basis states $\\lvert x \\rangle$ for all $x < L$ by $-1$. This is achieved by applying a multi-controlled $Z$ gate to these states. Below is a step-by-step breakdown of the implementation:\n",
    "\n",
    "### 1. **Quantum Circuit Initialization**\n",
    "- A quantum circuit `qc` is created with $n$ qubits, which will be used to represent the integer states.\n",
    "\n",
    "### 2. **Iterate Over Integers from $0$ to $L-1$**\n",
    "- We iterate over all integers $i$ from $0$ to $L-1$. Each integer corresponds to a computational basis state $\\lvert x \\rangle$.\n",
    "\n",
    "### 3. **Convert the Integer to Binary Representation**\n",
    "- Each integer $i$ is converted to its $n$-bit binary representation.\n",
    "- In classical computing, numbers are typically represented in **big-endian** format, where the leftmost bit is the most significant bit (MSB) and the rightmost bit is the least significant bit (LSB).\n",
    "- However, quantum circuits follow the **little-endian** convention, where the rightmost qubit (qubit 0) represents the MSB and the leftmost qubit (qubit $n-1$) represents the LSB.\n",
    "- To match this convention, we **reverse the binary string**.\n",
    "\n",
    "### 4. **Apply X Gates to Encode the Condition**\n",
    "- To ensure that the oracle acts only on the state $\\lvert x \\rangle$, we prepare the qubits:\n",
    "  - For every bit in the binary representation that is `0`, we apply an $X$ gate to flip it to `1`.\n",
    "  - This ensures that when we apply the multi-controlled $Z$ gate, it is activated only when all qubits are in the `1` state.\n",
    "\n",
    "### 5. **Apply the Multi-Controlled Z Gate**\n",
    "- The multi-controlled $Z$ gate is applied to introduce the phase shift $-1$ for the selected state.\n",
    "- If $n = 1$, a single $Z$ gate is applied directly.\n",
    "- If $n > 1$, an $(n-1)$-controlled $Z$ gate is used to apply the phase flip only when all qubits are in the `1` state.\n",
    "\n",
    "### 6. **Undo the X Gates to Restore the Original Basis**\n",
    "- After applying the multi-controlled $Z$ gate, we revert the $X$ gates to restore the original computational basis.\n",
    "\n",
    "### **Why is Little-Endian Important?**\n",
    "- In Qiskit, qubits are indexed from right to left (little-endian), meaning that the **rightmost** qubit in the quantum circuit corresponds to the leftmost bit in classical notation.\n",
    "- If we used the default big-endian representation, the quantum operations would be applied to the wrong qubits.\n",
    "- To correctly represent the integer states in the quantum circuit, we must **reverse the bit order** before applying operations.\n",
    "\n",
    "### **Summary**\n",
    "- Convert the integer $i$ to an $n$-bit binary representation and reverse it to match little-endian ordering.\n",
    "- Apply $X$ gates to transform `0`s into `1`s.\n",
    "- Apply a multi-controlled $Z$ gate to introduce the phase flip.\n",
    "- Undo the $X$ gates to restore the original state.\n",
    "\n",
    "This ensures that all basis states $\\lvert x \\rangle$ for $x < L$ receive a phase flip while leaving the other states unchanged.\n"
   ]
  }
 ],
 "metadata": {
  "kernelspec": {
   "display_name": "base",
   "language": "python",
   "name": "python3"
  },
  "language_info": {
   "codemirror_mode": {
    "name": "ipython",
    "version": 3
   },
   "file_extension": ".py",
   "mimetype": "text/x-python",
   "name": "python",
   "nbconvert_exporter": "python",
   "pygments_lexer": "ipython3",
   "version": "3.12.3"
  }
 },
 "nbformat": 4,
 "nbformat_minor": 2
}
