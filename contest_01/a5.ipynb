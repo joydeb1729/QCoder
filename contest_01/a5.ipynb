{
 "cells": [
  {
   "cell_type": "markdown",
   "metadata": {},
   "source": [
    "### Same as A4: Generate state $\\frac{1}{\\sqrt{3}} (|0 \\rangle + |1 \\rangle + |2 \\rangle)$\n"
   ]
  }
 ],
 "metadata": {
  "language_info": {
   "name": "python"
  }
 },
 "nbformat": 4,
 "nbformat_minor": 2
}
