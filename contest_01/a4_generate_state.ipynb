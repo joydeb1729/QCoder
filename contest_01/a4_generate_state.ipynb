{
 "cells": [
  {
   "cell_type": "markdown",
   "metadata": {},
   "source": [
    "## A4: Generate state $\\frac{1}{\\sqrt{3}} (|0 \\rangle + |1 \\rangle + |2 \\rangle)$\n",
    "\n",
    "**Time Limit:** 3 sec  \n",
    "**Memory Limit:** 512 MiB  \n",
    "**Score:** 200  \n",
    "\n",
    "#### Problem Statement\n",
    "Implement the operation of preparing the state $|\\psi \\rangle$ from the zero state on a quantum circuit $qc$ with 2 qubits.\n",
    "\n",
    "The state is defined as\n",
    "\n",
    "$$\n",
    "|\\psi \\rangle = a_0 |0 \\rangle + a_1 |1 \\rangle + a_2 |2 \\rangle = a_0 |00 \\rangle + a_1 |10 \\rangle + a_2 |01 \\rangle\n",
    "$$\n",
    "\n",
    "where $a_0$, $a_1$, and $a_2$ denote arbitrary non-zero probability amplitudes (any values are permitted).\n"
   ]
  },
  {
   "cell_type": "code",
   "execution_count": 10,
   "metadata": {},
   "outputs": [],
   "source": [
    "from qiskit import QuantumCircuit\n",
    "import numpy as np\n",
    "\n",
    "def solve() -> QuantumCircuit:\n",
    "    qc = QuantumCircuit(2)\n",
    "\n",
    "    theta1 = 2 * np.arccos(1/np.sqrt(3))\n",
    "    theta2 = (np.pi/4)\n",
    "\n",
    "    qc.ry(theta=theta1, qubit=0)\n",
    "    qc.ry(theta=theta2, qubit=1)\n",
    "    qc.cx(control_qubit=0, target_qubit=1)\n",
    "    qc.ry(theta=-theta2, qubit=1)\n",
    "    qc.x(qubit=0)\n",
    "    \n",
    "\n",
    "    return qc\n"
   ]
  },
  {
   "cell_type": "code",
   "execution_count": 11,
   "metadata": {},
   "outputs": [
    {
     "data": {
      "image/png": "[encoded data removed]",
      "text/plain": [
       "<Figure size 370.906x200.667 with 1 Axes>"
      ]
     },
     "execution_count": 11,
     "metadata": {},
     "output_type": "execute_result"
    }
   ],
   "source": [
    "\n",
    "qc = solve()\n",
    "\n",
    "qc.draw('mpl')"
   ]
  },
  {
   "cell_type": "code",
   "execution_count": 12,
   "metadata": {},
   "outputs": [
    {
     "data": {
      "text/latex": [
       "$$\\frac{\\sqrt{3}}{3} |00\\rangle+\\frac{\\sqrt{3}}{3} |01\\rangle+\\frac{\\sqrt{3}}{3} |10\\rangle$$"
      ],
      "text/plain": [
       "<IPython.core.display.Latex object>"
      ]
     },
     "execution_count": 12,
     "metadata": {},
     "output_type": "execute_result"
    }
   ],
   "source": [
    "from qiskit.quantum_info import Statevector\n",
    "\n",
    "statevector = Statevector(qc)\n",
    "\n",
    "statevector.draw('latex')"
   ]
  },
  {
   "cell_type": "markdown",
   "metadata": {},
   "source": [
    "## Overview of the Circuit\n",
    "\n",
    "You have two qubits initialized in the $|00\\rangle$ state, and the circuit applies a sequence of operations. Let's analyze each step carefully:\n",
    "\n",
    "### **First Rotation: $RY(\\theta)$ on $q_0$**\n",
    "The first qubit $q_0$ undergoes a rotation around the $Y$-axis by an angle:\n",
    "\n",
    "$$\n",
    "\\theta = 2 \\cdot \\arccos\\left(\\frac{1}{\\sqrt{3}}\\right)\n",
    "$$\n",
    "\n",
    "This rotation moves $q_0$ from $|0\\rangle$ to a superposition of $|0\\rangle$ and $|1\\rangle$. The exact superposition is:\n",
    "\n",
    "$$\n",
    "|q_0\\rangle = \\cos\\left(\\frac{\\theta}{2}\\right) |0\\rangle + \\sin\\left(\\frac{\\theta}{2}\\right) |1\\rangle\n",
    "$$\n",
    "\n",
    "Substituting $\\theta$:\n",
    "\n",
    "$$\n",
    "|q_0\\rangle = \\frac{1}{\\sqrt{3}} |0\\rangle + \\frac{\\sqrt{2}}{\\sqrt{3}} |1\\rangle\n",
    "$$\n",
    "\n",
    "### **Second Rotation: $RY(\\frac{\\pi}{4})$ on $q_1$**\n",
    "The second qubit $q_1$ undergoes a rotation by $\\frac{\\pi}{4}$, which corresponds to a $45^\\circ$ rotation around the $Y$-axis. This moves $q_1$ from $|0\\rangle$ to:\n",
    "\n",
    "$$\n",
    "|q_1\\rangle = \\cos\\left(\\frac{\\pi}{8}\\right) |0\\rangle + \\sin\\left(\\frac{\\pi}{8}\\right) |1\\rangle\n",
    "$$\n",
    "\n",
    "### **CNOT Gate (Controlled-X) between $q_0$ and $q_1$**\n",
    "The CNOT gate entangles the qubits. If $q_0$ is in the $|1\\rangle$ state, $q_1$ will be flipped (i.e., $|0\\rangle \\leftrightarrow |1\\rangle$). After applying CNOT, the system becomes entangled, and the state can be written as a linear combination of basis states.\n",
    "\n",
    "### **Third Rotation: $RY(-\\frac{\\pi}{4})$ on $q_1$**\n",
    "This step applies a $RY(-\\frac{\\pi}{4})$ rotation to $q_1$, which effectively reverses the earlier $RY(\\frac{\\pi}{4})$ operation. This adjustment ensures that the final state remains balanced and does not introduce unwanted amplitude contributions.\n",
    "\n",
    "## **Why is $|11\\rangle$ not in the final state?**\n",
    "1. **CNOT Interaction:** The CNOT gate flips $q_1$ based on $q_0$, but the initial rotations define the probability amplitudes, making it unlikely for $|11\\rangle$ to appear in the final superposition.\n",
    "2. **Rotation Effects:** The $RY(\\frac{\\pi}{4})$ and $RY(-\\frac{\\pi}{4})$ gates control the relative amplitudes of the states. These rotations cancel out any contribution that would lead to a nonzero $|11\\rangle$ amplitude.\n",
    "3. **Final State Composition:** The angles are carefully chosen so that the final state contains only the equal superposition of $|00\\rangle$, $|01\\rangle$, and $|10\\rangle$, leaving $|11\\rangle$ out.\n",
    "\n",
    "Thus, the circuit is designed in a way that ensures $|11\\rangle$ does not appear in the final quantum state.\n"
   ]
  }
 ],
 "metadata": {
  "kernelspec": {
   "display_name": "base",
   "language": "python",
   "name": "python3"
  },
  "language_info": {
   "codemirror_mode": {
    "name": "ipython",
    "version": 3
   },
   "file_extension": ".py",
   "mimetype": "text/x-python",
   "name": "python",
   "nbconvert_exporter": "python",
   "pygments_lexer": "ipython3",
   "version": "3.12.3"
  }
 },
 "nbformat": 4,
 "nbformat_minor": 2
}
