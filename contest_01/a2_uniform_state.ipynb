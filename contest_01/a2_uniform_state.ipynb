{
 "cells": [
  {
   "cell_type": "markdown",
   "metadata": {},
   "source": [
    "### A2: Generate Uniform Superposition State\n",
    "\n",
    "**Time Limit:** 3 sec  \n",
    "**Memory Limit:** 512 MiB  \n",
    "**Score:** 200  \n",
    "\n",
    "#### Problem Statement\n",
    "You are given an integer $n$. Implement the operation of preparing the uniform superposition state $|A \\rangle$ from the zero state on a quantum circuit $qc$ with $n$ qubits.\n",
    "\n",
    "The uniform superposition state is defined as\n",
    "\n",
    "$$\n",
    "|A \\rangle = \\frac{1}{\\sqrt{2^n}} \\sum_{i=0}^{2^n - 1} |i \\rangle = \\frac{1}{\\sqrt{2^n}} \\left( |0 \\dots 0 \\rangle_n + \\dots + |1 \\dots 1 \\rangle_n \\right)\n",
    "$$\n"
   ]
  },
  {
   "cell_type": "code",
   "execution_count": 1,
   "metadata": {},
   "outputs": [],
   "source": [
    "from qiskit import QuantumCircuit\n",
    "\n",
    "\n",
    "def solve(n: int) -> QuantumCircuit:\n",
    "    qc = QuantumCircuit(n)\n",
    "    \n",
    "    for i in range(0,n):\n",
    "        qc.h(i)\n",
    "\n",
    "    return qc\n"
   ]
  },
  {
   "cell_type": "code",
   "execution_count": 2,
   "metadata": {},
   "outputs": [],
   "source": [
    "from qiskit.quantum_info import Statevector\n",
    "\n",
    "qc = solve(2)\n",
    "statevector = Statevector(qc)"
   ]
  },
  {
   "cell_type": "code",
   "execution_count": 3,
   "metadata": {},
   "outputs": [
    {
     "data": {
      "text/latex": [
       "$$\\frac{1}{2} |00\\rangle+\\frac{1}{2} |01\\rangle+\\frac{1}{2} |10\\rangle+\\frac{1}{2} |11\\rangle$$"
      ],
      "text/plain": [
       "<IPython.core.display.Latex object>"
      ]
     },
     "execution_count": 3,
     "metadata": {},
     "output_type": "execute_result"
    }
   ],
   "source": [
    "statevector.draw('latex')"
   ]
  }
 ],
 "metadata": {
  "kernelspec": {
   "display_name": "base",
   "language": "python",
   "name": "python3"
  },
  "language_info": {
   "codemirror_mode": {
    "name": "ipython",
    "version": 3
   },
   "file_extension": ".py",
   "mimetype": "text/x-python",
   "name": "python",
   "nbconvert_exporter": "python",
   "pygments_lexer": "ipython3",
   "version": "3.12.3"
  }
 },
 "nbformat": 4,
 "nbformat_minor": 2
}
