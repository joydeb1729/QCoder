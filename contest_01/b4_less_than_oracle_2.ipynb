{
 "cells": [
  {
   "cell_type": "markdown",
   "metadata": {},
   "source": [
    "# B4: Less Than Oracle II\n",
    "\n",
    "## Problem Statement\n",
    "You are given integers $n$ and $L$. Implement the oracle $O$ on a quantum circuit $qc$ with $n$ qubits, which multiplies all the probability amplitudes $a_i$ of the computational basis states \n",
    "$\\lvert 0 \\rangle, \\lvert 1 \\rangle, \\dots, \\lvert L-1 \\rangle$ by $-1$.\n",
    "\n",
    "## Constraints\n",
    "- $1 \\leq n \\leq 10$\n",
    "- $1 \\leq L \\leq 2^n$\n",
    "- The circuit depth must not exceed $50$.\n",
    "- Global phase is ignored in judgment.\n",
    "- Integers must be encoded in **little-endian** format.\n",
    "\n",
    "## Sample Input\n",
    "For $n = 2$, $L = 3$, the initial state is:\n",
    "\n",
    "$$\n",
    "\\frac{1}{\\sqrt{4}} ( \\lvert 00 \\rangle + \\lvert 10 \\rangle + \\lvert 01 \\rangle + \\lvert 11 \\rangle ).\n",
    "$$\n",
    "\n",
    "The implemented oracle $O$ should apply the transformation:\n",
    "\n",
    "$$\n",
    "\\frac{1}{\\sqrt{4}} ( \\lvert 00 \\rangle + \\lvert 10 \\rangle + \\lvert 01 \\rangle + \\lvert 11 \\rangle ) \\xrightarrow{O} \\frac{1}{\\sqrt{4}} ( -\\lvert 00 \\rangle - \\lvert 10 \\rangle - \\lvert 01 \\rangle + \\lvert 11 \\rangle ).\n",
    "$$\n"
   ]
  },
  {
   "cell_type": "code",
   "execution_count": 63,
   "metadata": {},
   "outputs": [],
   "source": [
    "from qiskit import QuantumCircuit\n",
    "from qiskit.circuit.library import ZGate\n",
    "\n",
    "def solve(n: int, L: int) -> QuantumCircuit:\n",
    "    qc = QuantumCircuit(n)\n",
    "    #----------------------------------\n",
    "    for k in range(n):   #remove this part while submitting\n",
    "        qc.h(k)\n",
    "    #-----------------------------------\n",
    "    # Step 1: Get the binary representation of L (with leading zeros)\n",
    "    binary_repr = format(L, f'0{n}b')\n",
    "    \n",
    "    # Step 2: Reverse the binary representation to get little-endian\n",
    "    little_endian_binary_repr = binary_repr[::-1]\n",
    "\n",
    "    # Step 3: Iterate over each qubit (from 0 to n-1)\n",
    "    for i in range(n):\n",
    "        # Check the value of the i-th bit in the little-endian binary representation of L\n",
    "        if little_endian_binary_repr[i] == '0':\n",
    "            continue  # Skip if the bit is 0\n",
    "\n",
    "        # Apply X gates to the qubits for the remaining qubits\n",
    "        for j in range(i + 1, n):\n",
    "            if little_endian_binary_repr[j] == '0':\n",
    "                qc.x(j)\n",
    "\n",
    "        qc.x(i)  # Apply X gate to the current qubit\n",
    "\n",
    "        # Apply the Z gate or multi-controlled Z gate\n",
    "        if i == n - 1:\n",
    "            qc.z(i)  # Apply Z to the last qubit\n",
    "        else:\n",
    "            qc.append(ZGate().control(n - i - 1), range(i, n))  # Apply multi-controlled Z\n",
    "\n",
    "        qc.x(i)  # Reset the X gate on the current qubit\n",
    "\n",
    "        # Reset the X gates on the remaining qubits\n",
    "        for j in range(i + 1, n):\n",
    "            if little_endian_binary_repr[j] == '0':\n",
    "                qc.x(j)\n",
    "\n",
    "    return qc\n"
   ]
  },
  {
   "cell_type": "code",
   "execution_count": 64,
   "metadata": {},
   "outputs": [
    {
     "data": {
      "image/png": "[encoded data removed]",
      "text/plain": [
       "<Figure size 621.941x284.278 with 1 Axes>"
      ]
     },
     "execution_count": 64,
     "metadata": {},
     "output_type": "execute_result"
    }
   ],
   "source": [
    "qc = solve(3,5)\n",
    "\n",
    "qc.draw('mpl')"
   ]
  },
  {
   "cell_type": "code",
   "execution_count": 65,
   "metadata": {},
   "outputs": [
    {
     "data": {
      "text/latex": [
       "$$- \\frac{\\sqrt{2}}{4} |000\\rangle- \\frac{\\sqrt{2}}{4} |001\\rangle- \\frac{\\sqrt{2}}{4} |010\\rangle- \\frac{\\sqrt{2}}{4} |011\\rangle- \\frac{\\sqrt{2}}{4} |100\\rangle+\\frac{\\sqrt{2}}{4} |101\\rangle+\\frac{\\sqrt{2}}{4} |110\\rangle+\\frac{\\sqrt{2}}{4} |111\\rangle$$"
      ],
      "text/plain": [
       "<IPython.core.display.Latex object>"
      ]
     },
     "execution_count": 65,
     "metadata": {},
     "output_type": "execute_result"
    }
   ],
   "source": [
    "from qiskit.quantum_info import Statevector\n",
    "\n",
    "statevector = Statevector(qc)\n",
    "\n",
    "statevector.draw('latex')"
   ]
  },
  {
   "cell_type": "markdown",
   "metadata": {},
   "source": [
    "# Solution Approach\n",
    "To implement the oracle $O$ that negates the amplitudes of computational basis states $|0\\rangle, |1\\rangle, \\dots, |L-1\\rangle$, we use the following steps:\n",
    "\n",
    "### **Step 1: Convert $L$ to Binary (Little-Endian Format)**\n",
    "- Convert $L$ into an $n$-bit binary representation.\n",
    "- Reverse the binary string to match **little-endian** ordering (least significant bit first).\n",
    "\n",
    "### **Step 2: Iterate Over Each Qubit**\n",
    "For each qubit **i** (from 0 to $n-1$):\n",
    "1. **Check if the bit in $L$ is `0`**: If the bit is `0`, skip the iteration, as the control condition won't be satisfied. This ensures that only states in the range $[0, L-1]$ are affected.\n",
    "2. **Apply Temporary `X` Gates**: Flip qubits that are `0` in the binary representation to `1` using `X` gates. This ensures that they can act as **control qubits** for a multi-controlled `Z` operation.\n",
    "3. **Apply an `X` Gate to the Current Qubit**: This is needed to define the condition for the multi-controlled `Z` operation.\n",
    "4. **Apply the Multi-Controlled `Z` Gate**:\n",
    "   - If **`i == n - 1`** (last qubit), apply a single `Z` gate.\n",
    "   - Otherwise, apply a **multi-controlled `Z`** gate on qubits from `i` to `n-1`.\n",
    "5. **Undo the Temporary `X` Gates**: Restore the original states of qubits that were flipped in step 2 and 3.\n",
    "\n",
    "### **Step 3: Resulting Effect**\n",
    "- The controlled-Z gates apply a **phase flip (-1 factor)** to states $|0\\rangle$ to $|L-1\\rangle$.\n",
    "- States $|L\\rangle$ to $|2^n - 1\\rangle$ remain unchanged.\n",
    "\n",
    "### **Why We Skip `0` Bits and Work Only on `1` Bits**\n",
    "- We only process the qubits corresponding to `1` bits in the binary representation of $L$.\n",
    "- This ensures that we only modify the probability amplitudes within the range `[0, L-1]`, leaving the states outside this range unaffected.\n",
    "\n",
    "## **Why This Approach Has Lower Depth**\n",
    "- Instead of iterating through all possible computational states (which would require an exponential number of operations), we efficiently **construct multi-controlled Z gates** based on the binary structure of $L$.\n",
    "- The **use of temporary `X` gates** allows us to control the Z gate without needing extra ancilla qubits.\n",
    "- Multi-controlled `Z` gates are efficiently implemented using existing Qiskit primitives, keeping the **circuit depth below 50**.\n",
    "- The structure avoids unnecessary operations on qubits that do not contribute to the oracle's condition.\n",
    "\n",
    "## **Time Complexity Analysis**\n",
    "- **Binary Conversion:** $O(n)$\n",
    "- **Iteration Over Qubits:** $O(n)$\n",
    "- **Multi-Controlled `Z` Application:** Efficiently implemented, avoiding exponential growth\n",
    "- **Overall Complexity:** **$O(n)$**, making it optimal for large values of $n$.\n",
    "\n",
    "### **Depth Analysis: Comparison with a Naïve Approach**\n",
    "- A naïve approach would iterate over all states from `0` to `L-1` and apply a **multi-controlled Z gate** to each state.\n",
    "- This would require **$O(L)$**  (where $L_{max} = 2^n$ ) applications of multi-controlled `Z` gates, each with depth **$O(n)$**, leading to an overall depth of **$O(nL)$**.\n",
    "- Our approach, by leveraging binary representation and skipping `0` bits, achieves **$O(n)$** depth, significantly improving efficiency.\n",
    "\n"
   ]
  }
 ],
 "metadata": {
  "kernelspec": {
   "display_name": "base",
   "language": "python",
   "name": "python3"
  },
  "language_info": {
   "codemirror_mode": {
    "name": "ipython",
    "version": 3
   },
   "file_extension": ".py",
   "mimetype": "text/x-python",
   "name": "python",
   "nbconvert_exporter": "python",
   "pygments_lexer": "ipython3",
   "version": "3.12.3"
  }
 },
 "nbformat": 4,
 "nbformat_minor": 2
}
