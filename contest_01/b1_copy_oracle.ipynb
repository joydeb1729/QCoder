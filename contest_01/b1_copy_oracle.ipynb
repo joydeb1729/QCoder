{
 "cells": [
  {
   "cell_type": "markdown",
   "metadata": {},
   "source": [
    "# $B1$: Copy Oracle\n",
    "\n",
    "## Problem Statement\n",
    "Implement the oracle $O$ on a quantum circuit $qc$ with 2 qubits acting on computational basis states as:\n",
    "\n",
    "$$\n",
    "\\lvert x \\rangle \\lvert y \\rangle \\xrightarrow{O} \\lvert x \\rangle \\lvert y \\oplus x \\rangle\n",
    "$$\n",
    "\n",
    "where $\\oplus$ denotes the XOR operator.\n",
    "\n",
    "## Constraints\n",
    "- Global phase is ignored in the judge.\n",
    "- The submitted code must follow the specified format.\n",
    "\n",
    "## Sample Input\n",
    "The initial state is given as:\n",
    "\n",
    "$$\n",
    "\\lvert x \\rangle \\lvert y \\rangle = \\frac{1}{\\sqrt{2}} (\\lvert 00 \\rangle + \\lvert 10 \\rangle)\n",
    "$$\n",
    "\n",
    "The implemented oracle $O$ should perform the transformation:\n",
    "\n",
    "$$\n",
    "\\frac{1}{\\sqrt{2}} (\\lvert 00 \\rangle + \\lvert 10 \\rangle) \\xrightarrow{O} \\frac{1}{\\sqrt{2}} (\\lvert 00 \\rangle + \\lvert 11 \\rangle)\n",
    "$$\n"
   ]
  },
  {
   "cell_type": "code",
   "execution_count": null,
   "metadata": {},
   "outputs": [],
   "source": [
    "from qiskit import QuantumCircuit, QuantumRegister\n",
    "\n",
    "def solve() -> QuantumCircuit:\n",
    "    x, y = QuantumRegister(1), QuantumRegister(1)\n",
    "    qc = QuantumCircuit(x, y)\n",
    "    # Apply a CNOT gate \n",
    "    qc.cx(control_qubit=x[0], target_qubit=y[0])\n",
    "    return qc"
   ]
  },
  {
   "cell_type": "markdown",
   "metadata": {},
   "source": [
    "## Solution Approach\n",
    "\n",
    "To implement the oracle $O$, we need to perform the transformation:\n",
    "\n",
    "$$\n",
    "\\lvert x \\rangle \\lvert y \\rangle \\xrightarrow{O} \\lvert x \\rangle \\lvert y \\oplus x \\rangle\n",
    "$$\n",
    "\n",
    "where $\\oplus$ represents the XOR operation. This means that the second qubit ($y$) should be flipped if and only if the first qubit ($x$) is in state $\\lvert 1 \\rangle$.\n",
    "\n",
    "### Steps:\n",
    "1. **Quantum Registers**: We define two quantum registers, $x$ and $y$, each containing one qubit.\n",
    "2. **Quantum Circuit**: We initialize a quantum circuit with these two qubits.\n",
    "3. **CNOT Gate Application**: The controlled-NOT (CNOT) gate is applied with $x$ as the control qubit and $y$ as the target qubit. This ensures:\n",
    "   - If $x = 0$, $y$ remains unchanged.\n",
    "   - If $x = 1$, $y$ is flipped.\n",
    "4. **Final Output**: The circuit now correctly implements the transformation required for the oracle.\n",
    "\n",
    "The CNOT operation effectively performs the mapping:\n",
    "\n",
    "$$\n",
    "\\lvert x \\rangle \\lvert y \\rangle \\xrightarrow{CX} \\lvert x \\rangle \\lvert y \\oplus x \\rangle\n",
    "$$\n",
    "\n",
    "which satisfies the problem requirement.\n"
   ]
  }
 ],
 "metadata": {
  "kernelspec": {
   "display_name": "base",
   "language": "python",
   "name": "python3"
  },
  "language_info": {
   "codemirror_mode": {
    "name": "ipython",
    "version": 3
   },
   "file_extension": ".py",
   "mimetype": "text/x-python",
   "name": "python",
   "nbconvert_exporter": "python",
   "pygments_lexer": "ipython3",
   "version": "3.12.3"
  }
 },
 "nbformat": 4,
 "nbformat_minor": 2
}
