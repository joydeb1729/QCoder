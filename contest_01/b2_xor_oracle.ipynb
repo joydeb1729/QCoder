{
 "cells": [
  {
   "cell_type": "markdown",
   "metadata": {},
   "source": [
    "# $B2$: Multi-Qubit XOR Oracle\n",
    "\n",
    "## Problem Statement\n",
    "You are given an integer $n$. Implement the oracle $O$ on a quantum circuit $qc$ consisting of $n+1$ qubits, and acting on the computational basis states as:\n",
    "\n",
    "$$\n",
    "\\lvert \\psi \\rangle = \\lvert x \\rangle \\lvert y \\rangle \\xrightarrow{O} \\lvert x \\rangle \\lvert y \\oplus x_1 \\oplus x_2 \\oplus \\dots \\oplus x_n \\rangle.\n",
    "$$\n",
    "\n",
    "where $\\lvert x \\rangle = \\lvert x_1, x_2, \\dots, x_n \\rangle$ denotes the first $n$ qubits of the circuit and $\\lvert y \\rangle$ denotes the last qubit.\n",
    "\n",
    "## Sample Input\n",
    "The initial state is given as:\n",
    "\n",
    "$$\n",
    "\\lvert \\psi \\rangle = \\frac{1}{\\sqrt{2}} ( \\lvert 101 \\rangle + \\lvert 010 \\rangle ).\n",
    "$$\n",
    "\n",
    "The implemented oracle $O$ should perform the transformation:\n",
    "\n",
    "$$\n",
    "\\frac{1}{\\sqrt{2}} ( \\lvert 101 \\rangle + \\lvert 010 \\rangle ) \\xrightarrow{O} \\frac{1}{\\sqrt{2}} ( \\lvert 100 \\rangle + \\lvert 011 \\rangle ).\n",
    "$$\n"
   ]
  },
  {
   "cell_type": "code",
   "execution_count": null,
   "metadata": {},
   "outputs": [],
   "source": [
    "from qiskit import QuantumCircuit, QuantumRegister\n",
    "\n",
    "\n",
    "def solve(n: int) -> QuantumCircuit:\n",
    "    x, y = QuantumRegister(n), QuantumRegister(1)\n",
    "    qc = QuantumCircuit(x, y)\n",
    "    # Apply CX\n",
    "    for i in range(n):\n",
    "        qc.cx(control_qubit=x[i], target_qubit=y[0])\n",
    "    return qc\n"
   ]
  },
  {
   "cell_type": "code",
   "execution_count": 8,
   "metadata": {},
   "outputs": [
    {
     "data": {
      "image/png": "[encoded data removed]",
      "text/plain": [
       "<Figure size 389.338x367.889 with 1 Axes>"
      ]
     },
     "execution_count": 8,
     "metadata": {},
     "output_type": "execute_result"
    }
   ],
   "source": [
    "\n",
    "qc = solve(3)\n",
    "\n",
    "qc.draw('mpl')"
   ]
  },
  {
   "cell_type": "markdown",
   "metadata": {},
   "source": [
    "## Solution Approach\n",
    "\n",
    "To implement the oracle $O$, we need to perform the transformation:\n",
    "\n",
    "$$\n",
    "\\lvert \\psi \\rangle = \\lvert x \\rangle \\lvert y \\rangle \\xrightarrow{O} \\lvert x \\rangle \\lvert y \\oplus x_1 \\oplus x_2 \\oplus \\dots \\oplus x_n \\rangle.\n",
    "$$\n",
    "\n",
    "where $\\oplus$ represents the XOR operation. This means that the last qubit ($y$) should be flipped if the parity (sum modulo 2) of the first $n$ qubits is 1.\n",
    "\n",
    "### Steps:\n",
    "1. **Quantum Registers**: \n",
    "   - The first $n$ qubits represent $x_1, x_2, \\dots, x_n$.\n",
    "   - The last qubit represents $y$.\n",
    "2. **Quantum Circuit**: \n",
    "   - A quantum circuit is initialized with these $n+1$ qubits.\n",
    "3. **CNOT Gate Application**: \n",
    "   - A series of controlled-NOT (CNOT) gates is applied, where each of the first $n$ qubits acts as a control and the last qubit ($y$) is the target.\n",
    "   - This operation flips $y$ whenever an odd number of control qubits are in state $\\lvert 1 \\rangle$, implementing the required XOR operation.\n",
    "4. **Final Output**: \n",
    "   - The circuit now correctly applies the transformation:\n",
    "\n",
    "$$\n",
    "\\lvert x_1, x_2, \\dots, x_n \\rangle \\lvert y \\rangle \\xrightarrow{CX} \\lvert x_1, x_2, \\dots, x_n \\rangle \\lvert y \\oplus x_1 \\oplus x_2 \\oplus \\dots \\oplus x_n \\rangle.\n",
    "$$\n"
   ]
  }
 ],
 "metadata": {
  "kernelspec": {
   "display_name": "base",
   "language": "python",
   "name": "python3"
  },
  "language_info": {
   "codemirror_mode": {
    "name": "ipython",
    "version": 3
   },
   "file_extension": ".py",
   "mimetype": "text/x-python",
   "name": "python",
   "nbconvert_exporter": "python",
   "pygments_lexer": "ipython3",
   "version": "3.12.3"
  }
 },
 "nbformat": 4,
 "nbformat_minor": 2
}
